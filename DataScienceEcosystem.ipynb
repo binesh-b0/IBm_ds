{
 "cells": [
  {
   "cell_type": "markdown",
   "id": "759c08c9-9336-41d4-86ed-5fd0c9bfbf12",
   "metadata": {
    "tags": []
   },
   "source": [
    "# Data Science Tools and Ecosystem"
   ]
  },
  {
   "cell_type": "markdown",
   "id": "6f42935d-215c-4cf0-9a7c-dab3f73e6dc9",
   "metadata": {},
   "source": [
    "In this notebook, Data Science Tools and Ecosystem are summarized."
   ]
  },
  {
   "cell_type": "markdown",
   "id": "2b909d21-702f-4fe1-a168-362873c89293",
   "metadata": {},
   "source": [
    "**Objectives:**\n",
    "- List examples of open-source tools used in data science.\n",
    "- Review languages like Python, Java, Scala, C++, JavaScript, and Julia used in data science.\n",
    "- Identify tools in Anaconda Jupyter environments.\n",
    "- Introduce global communities for connecting with other users."
   ]
  },
  {
   "cell_type": "markdown",
   "id": "bb14ea3f-d7d3-4f29-b7a7-03c80c6718a1",
   "metadata": {},
   "source": [
    "Some of the popular languages that Data Scientists use are\n",
    "1. Python\n",
    "2. R\n",
    "3. Julia"
   ]
  },
  {
   "cell_type": "markdown",
   "id": "29a5d80a-c057-4e41-b246-ee4a0d5e206d",
   "metadata": {},
   "source": [
    "Some of the commonly used libraries used by Data Scientists include:\n",
    "1. Pandas\n",
    "2. Numpy\n",
    "3. TenserFlow\n",
    "4. Keras\n",
    "5. Seaborn"
   ]
  },
  {
   "cell_type": "markdown",
   "id": "d52bc627-12a6-44d7-b02a-df54e4090125",
   "metadata": {},
   "source": [
    "| Data Science Tools |\n",
    "| ------------------ |\n",
    "| Jupyter Notebook   |\n",
    "| RStudio            |\n",
    "| Weka    |\n"
   ]
  },
  {
   "cell_type": "markdown",
   "id": "fbed965a-5db0-4c19-acee-7243131df556",
   "metadata": {},
   "source": [
    "### Below are a few examples of evaluating arithmetic expressions in Python"
   ]
  },
  {
   "cell_type": "code",
   "execution_count": 1,
   "id": "180e15d2-bd30-40c5-a92f-b7dbfff850fd",
   "metadata": {
    "tags": []
   },
   "outputs": [
    {
     "data": {
      "text/plain": [
       "17"
      ]
     },
     "execution_count": 1,
     "metadata": {},
     "output_type": "execute_result"
    }
   ],
   "source": [
    "# Adding two integers\n",
    "(3*4)+5"
   ]
  },
  {
   "cell_type": "code",
   "execution_count": 2,
   "id": "304bf9f0-12ee-4be5-9b86-c3f095592858",
   "metadata": {
    "tags": []
   },
   "outputs": [
    {
     "name": "stdout",
     "output_type": "stream",
     "text": [
      "3.3333333333333335\n"
     ]
    }
   ],
   "source": [
    "# converting 200 minutes to hours by diving by 60\n",
    "time_in_min = 200\n",
    "time_in_hour = time_in_min / 60\n",
    "print(time_in_hour)"
   ]
  },
  {
   "cell_type": "markdown",
   "id": "fdf2a322-cea7-420c-8ef9-83d4866c0e85",
   "metadata": {},
   "source": [
    "## Author :",
    " "
    "Binesh" 
   ]
  },
  {
   "cell_type": "code",
   "execution_count": null,
   "id": "3bc1dfb6-d922-49e6-8e18-007a40f279d6",
   "metadata": {},
   "outputs": [],
   "source": []
  }
 ],
 "metadata": {
  "kernelspec": {
   "display_name": "Python",
   "language": "python",
   "name": "conda-env-python-py"
  },
  "language_info": {
   "codemirror_mode": {
    "name": "ipython",
    "version": 3
   },
   "file_extension": ".py",
   "mimetype": "text/x-python",
   "name": "python",
   "nbconvert_exporter": "python",
   "pygments_lexer": "ipython3",
   "version": "3.7.12"
  }
 },
 "nbformat": 4,
 "nbformat_minor": 5
}
